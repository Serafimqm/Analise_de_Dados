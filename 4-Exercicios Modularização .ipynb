{
 "cells": [
  {
   "cell_type": "markdown",
   "id": "cc0fc80f",
   "metadata": {},
   "source": [
    "### Modularização"
   ]
  },
  {
   "cell_type": "markdown",
   "id": "26ade9f8",
   "metadata": {},
   "source": [
    "É criado uma função em uma região do codigo, essa função poderá ser utilizada de qualquer lugar da \"pagina\" contanto que seja chamada e que retorne o resultado obtido"
   ]
  },
  {
   "cell_type": "code",
   "execution_count": 2,
   "id": "44757f2e",
   "metadata": {},
   "outputs": [],
   "source": [
    "#Definição da função exemplo com parabetros a e b\n",
    "def exemplo(a, b):\n",
    "    a = 2*a\n",
    "    b = 2*b\n",
    "    soma = a+b\n",
    "    return soma"
   ]
  },
  {
   "cell_type": "code",
   "execution_count": 3,
   "id": "48cde51c",
   "metadata": {},
   "outputs": [
    {
     "name": "stdout",
     "output_type": "stream",
     "text": [
      "2\n",
      "4\n",
      "A soma do dobro das variaveis inseridas é 12\n"
     ]
    }
   ],
   "source": [
    "#Inserindo as variaveis x,y e as declarando como parametros da função exemplo\n",
    "x = int(input()) \n",
    "y = int(input()) \n",
    "z = exemplo(x, y)  \n",
    "print(\"A soma do dobro das variaveis inseridas é {}\".format(z))"
   ]
  },
  {
   "cell_type": "markdown",
   "id": "788fe60f",
   "metadata": {},
   "source": [
    "Exercício 1: <br>\n",
    "Crie uma função que calcule a media de uma turma ao ser inserindo a soma das notas e a quantidade de estudantes."
   ]
  },
  {
   "cell_type": "code",
   "execution_count": 2,
   "id": "4807c464",
   "metadata": {},
   "outputs": [
    {
     "name": "stdout",
     "output_type": "stream",
     "text": [
      "Digite a soma das notas da turma: 2478\n",
      "Digite o numero de alunos: 40\n",
      "A media da turma é 61.95\n"
     ]
    }
   ],
   "source": [
    "somaNotas= float(input(\"Digite a soma das notas da turma: \"))\n",
    "numeroAlunos=int(input(\"Digite o numero de alunos: \"))\n",
    "mediaTurma= somaNotas/numeroAlunos\n",
    "print(\"A media da turma é {:.2f}\".format(mediaTurma))"
   ]
  },
  {
   "cell_type": "markdown",
   "id": "3dce756a",
   "metadata": {},
   "source": [
    "Exercício 2: <br>\n",
    "Faça um programa que ao receber de x,y , inverta os respectivos valores de cada variavel."
   ]
  },
  {
   "cell_type": "code",
   "execution_count": 5,
   "id": "1eed4d89",
   "metadata": {},
   "outputs": [
    {
     "name": "stdout",
     "output_type": "stream",
     "text": [
      "Digite o valor de X: 10\n",
      "Digite o valor de Y: 2\n",
      "O valor de X agora é 2 e Y é 10\n"
     ]
    }
   ],
   "source": [
    "x=int(input(\"Digite o valor de X: \"))\n",
    "y=int(input(\"Digite o valor de Y: \"))\n",
    "\n",
    "temp=x\n",
    "x=y\n",
    "y=temp\n",
    "print(\"O valor de X agora é {} e Y é {}\".format(x,y))"
   ]
  },
  {
   "cell_type": "code",
   "execution_count": 4,
   "id": "a54f11e6",
   "metadata": {},
   "outputs": [
    {
     "name": "stdout",
     "output_type": "stream",
     "text": [
      "4\n",
      "2\n"
     ]
    }
   ],
   "source": [
    "#Outra maneira de fazer o exercicio acima é:\n",
    "x,y=y,x\n",
    "print(x)\n",
    "print(y)"
   ]
  }
 ],
 "metadata": {
  "kernelspec": {
   "display_name": "Python 3 (ipykernel)",
   "language": "python",
   "name": "python3"
  },
  "language_info": {
   "codemirror_mode": {
    "name": "ipython",
    "version": 3
   },
   "file_extension": ".py",
   "mimetype": "text/x-python",
   "name": "python",
   "nbconvert_exporter": "python",
   "pygments_lexer": "ipython3",
   "version": "3.9.5"
  }
 },
 "nbformat": 4,
 "nbformat_minor": 5
}
