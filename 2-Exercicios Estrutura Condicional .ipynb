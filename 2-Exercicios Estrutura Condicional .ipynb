{
 "cells": [
  {
   "cell_type": "markdown",
   "id": "e45820c8",
   "metadata": {},
   "source": [
    "### Operadores Relacionais\n",
    "+ $==$\n",
    "+ $!=$\n",
    "+ $<$\n",
    "+ $<=$\n",
    "+ $>$\n",
    "+ $>=$"
   ]
  },
  {
   "cell_type": "markdown",
   "id": "cafb711f",
   "metadata": {},
   "source": [
    "Exercício 1: <br>\n",
    "Faça um programa que recebe dois números e imprime o resultado apenas se a soma for maior que 10."
   ]
  },
  {
   "cell_type": "code",
   "execution_count": 2,
   "id": "90f57492",
   "metadata": {},
   "outputs": [
    {
     "name": "stdout",
     "output_type": "stream",
     "text": [
      "Digite o primeiro numero: 4\n",
      "Digite o segundo numero: 4\n",
      "A soma dos numeros não é maior que 0\n"
     ]
    }
   ],
   "source": [
    "n1=float(input(\"Digite o primeiro numero: \"))\n",
    "n2=float(input(\"Digite o segundo numero: \"))\n",
    "\n",
    "nt=n1+n2\n",
    "if nt > 10:\n",
    "    print(\"O resultado é {}\".format(nt))\n",
    "else:\n",
    "    print(\"A soma dos numeros não é maior que 0\")"
   ]
  },
  {
   "cell_type": "markdown",
   "id": "55b4718a",
   "metadata": {},
   "source": [
    "Exercício 2: <br>\n",
    "Faça um programa que recebe um número e se o mesmo for par deve imprimir uma mensagem."
   ]
  },
  {
   "cell_type": "code",
   "execution_count": 12,
   "id": "5223712b",
   "metadata": {},
   "outputs": [
    {
     "name": "stdout",
     "output_type": "stream",
     "text": [
      "Digite um numero: 10\n",
      "O numero é par\n"
     ]
    }
   ],
   "source": [
    "n1=float(input(\"Digite um numero: \"))\n",
    "\n",
    "if n1%2==0:\n",
    "    print(\"O numero é par\")\n",
    "else:\n",
    "    print(\"O numero é impar\")"
   ]
  },
  {
   "cell_type": "markdown",
   "id": "e8b9047b",
   "metadata": {},
   "source": [
    "### Estrutura Condicional\n",
    "+ if\n",
    "+ else\n",
    "+ elif"
   ]
  },
  {
   "cell_type": "markdown",
   "id": "7e0d7a43",
   "metadata": {},
   "source": [
    "Exercício 3: <br>\n",
    "Faça um programa em Python para calcular e exibir a área de um círculo, fornecido o valor do raio, que deve ser \n",
    "positivo. Se o valor do raio fornecido for negativo uma mensagem deve ser exibida ao usuário informando o\n",
    "problema. "
   ]
  },
  {
   "cell_type": "code",
   "execution_count": 14,
   "id": "5412f217",
   "metadata": {},
   "outputs": [
    {
     "name": "stdout",
     "output_type": "stream",
     "text": [
      "Escreva o tamanho do raio do circulo: 2\n",
      "A area do circulo é 12.57\n"
     ]
    }
   ],
   "source": [
    "import math\n",
    "\n",
    "r=float(input(\"Escreva o tamanho do raio do circulo: \"))\n",
    "\n",
    "if r<=0:\n",
    "    print(\"Raio informado invalido,informe um raio maior que \")\n",
    "else:\n",
    "    area=math.pi*r**2\n",
    "    print(\"A area do circulo é {:.2f}\".format(area))\n",
    "    "
   ]
  },
  {
   "cell_type": "markdown",
   "id": "56fa6fca",
   "metadata": {},
   "source": [
    "Exercício 4: <br>\n",
    "A empresa XKW Ltda. concedeu um bônus de 20% do valor do salário a todos os funcionários com tempo de trabalho na empresa igual ou superior a cinco anos e 10% aos demais. Calcular e exibir o valor do bônus para cada caso. O programa deve obter o salário e o tempo de trabalho na empresa.\n"
   ]
  },
  {
   "cell_type": "code",
   "execution_count": 19,
   "id": "c850a5f7",
   "metadata": {},
   "outputs": [
    {
     "name": "stdout",
     "output_type": "stream",
     "text": [
      "Digite salario recebido pelo funcionario 100\n",
      "Digite o numero de anos trabalhados na empresa XKW2\n",
      "o valor da bonificação foi de 10.0 reais \n"
     ]
    }
   ],
   "source": [
    "salario=float(input(\"Digite salario recebido pelo funcionario \"))\n",
    "tempo=int(input(\"Digite o numero de anos trabalhados na empresa XKW\"))\n",
    "\n",
    "if tempo >= 5:\n",
    "    bonus= (salario*20/100)\n",
    "    print(\"o valor da bonificação foi de {} reais \" .format(bonus))\n",
    "else:\n",
    "    bonus= (salario*10/100)\n",
    "    print(\"o valor da bonificação foi de {} reais \" .format(bonus))"
   ]
  },
  {
   "cell_type": "markdown",
   "id": "7a2c5543",
   "metadata": {},
   "source": [
    "### Operadores Lógicos\n",
    "+ Conjunção: and\n",
    "+ Disjunção: or\n",
    "+ Negação: not   "
   ]
  },
  {
   "cell_type": "markdown",
   "id": "ca36782d",
   "metadata": {},
   "source": [
    "Exercício 5: <br>\n",
    "Informar se um número é divisível por 10, por 5, por 2 ou se não é divisível por nenhum destes."
   ]
  },
  {
   "cell_type": "code",
   "execution_count": 28,
   "id": "6f43a754",
   "metadata": {},
   "outputs": [
    {
     "name": "stdout",
     "output_type": "stream",
     "text": [
      "Digite um numero inteiro: 17\n",
      "O numero não é divisivel por 10,5 e 2\n"
     ]
    }
   ],
   "source": [
    "n=int(input(\"Digite um numero inteiro: \"))\n",
    "if n%2==0 and n%5==0:\n",
    "    print(\"O numero é divisivel por 10, por 5 e por 2\")\n",
    "elif n%5==0:\n",
    "    print(\"O numero é divisivel por 5\")\n",
    "elif n%2==0:\n",
    "    print(\"O numero é divisivel por 2\")\n",
    "else:\n",
    "    print(\"O numero não é divisivel por 10,5 e 2\")"
   ]
  }
 ],
 "metadata": {
  "kernelspec": {
   "display_name": "Python 3 (ipykernel)",
   "language": "python",
   "name": "python3"
  },
  "language_info": {
   "codemirror_mode": {
    "name": "ipython",
    "version": 3
   },
   "file_extension": ".py",
   "mimetype": "text/x-python",
   "name": "python",
   "nbconvert_exporter": "python",
   "pygments_lexer": "ipython3",
   "version": "3.9.5"
  }
 },
 "nbformat": 4,
 "nbformat_minor": 5
}
