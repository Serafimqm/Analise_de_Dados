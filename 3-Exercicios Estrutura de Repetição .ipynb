{
 "cells": [
  {
   "cell_type": "markdown",
   "id": "2d110417",
   "metadata": {},
   "source": [
    "### Estruturas de repetição"
   ]
  },
  {
   "cell_type": "markdown",
   "id": "5fe78a5c",
   "metadata": {},
   "source": [
    "### Operadores Lógicos\n",
    "+ Enquanto: while <br>\n",
    "Funciona como um contador, até que as condições estabelecidas sejam cumpridas \n",
    "+ Para i até 10: for i in range (1,11,-1) <br>\n",
    "Utilizado quando se sabe o numero de vezes executada pelo loop\n",
    " + 1=  Numero inicial\n",
    " + 11= Ultimo numero\n",
    " + -1= De quanto em quando a sequência progride "
   ]
  },
  {
   "cell_type": "markdown",
   "id": "7b5abd55",
   "metadata": {},
   "source": [
    "Exercício 1: <br>\n",
    "A sequência abaixo é conhecida como série de Fibonacci. Faça um programa em Python para escrever esta série até o seu decimo termo. Série de Fibonacci: 1,1,2,3,5,8,13,21,34,55,..."
   ]
  },
  {
   "cell_type": "code",
   "execution_count": 12,
   "id": "e65a2e94",
   "metadata": {},
   "outputs": [
    {
     "name": "stdout",
     "output_type": "stream",
     "text": [
      "2\n",
      "3\n",
      "5\n",
      "8\n",
      "13\n",
      "21\n",
      "34\n",
      "55\n",
      "89\n",
      "144\n",
      "233\n",
      "O ultimo dos 10 termos é 233\n"
     ]
    }
   ],
   "source": [
    "n1=1\n",
    "n2=1\n",
    "for i in range (11):\n",
    "    temp= n1+n2\n",
    "    n1=n2\n",
    "    n2=temp\n",
    "    print(temp)\n",
    "#Se o print estiver fora do loop, vai aparecer o ultimo termo gerado\n",
    "print(\"O ultimo dos {} termos é {}\".format(i,temp))"
   ]
  },
  {
   "cell_type": "markdown",
   "id": "dc741ddb",
   "metadata": {},
   "source": [
    "Exercício 2: <br>\n",
    "Faça um programa em Python para exibir todos os números inteiros divisíveis por 4, maiores ou iguais a 1100 e menores ou iguais a 1050"
   ]
  },
  {
   "cell_type": "code",
   "execution_count": 19,
   "id": "95ca0acd",
   "metadata": {},
   "outputs": [
    {
     "name": "stdout",
     "output_type": "stream",
     "text": [
      "1052\n",
      "1056\n",
      "1060\n",
      "1064\n",
      "1068\n",
      "1072\n",
      "1076\n",
      "1080\n",
      "1084\n",
      "1088\n",
      "1092\n",
      "1096\n",
      "1100\n",
      "O ultimo termo é 1100\n"
     ]
    }
   ],
   "source": [
    "for i in range(1052,1101,4):\n",
    "    print(i)\n",
    "print(\"O ultimo termo é {}\".format(i))"
   ]
  },
  {
   "cell_type": "markdown",
   "id": "a97887cc",
   "metadata": {},
   "source": [
    "Exercício 3: <br>\n",
    "Faça um programa que leia 5 números e informe o maior número. "
   ]
  },
  {
   "cell_type": "code",
   "execution_count": 29,
   "id": "26087225",
   "metadata": {},
   "outputs": [
    {
     "name": "stdout",
     "output_type": "stream",
     "text": [
      "Digite o número: 1\n",
      "Digite o número: 5\n",
      "Digite o número: 8\n",
      "Digite o número: 6\n",
      "Digite o número: 3\n",
      "O maior número da lista é:  8\n"
     ]
    }
   ],
   "source": [
    "# A lista recebe apenas 5 numeros\n",
    "lista = []\n",
    "while len(lista) < 5:\n",
    "    n = int(input('Digite o número: '))\n",
    "    lista.append(n)\n",
    "\n",
    "print ('O maior número da lista é: ',max(lista))\n"
   ]
  },
  {
   "cell_type": "markdown",
   "id": "60a9c21b",
   "metadata": {},
   "source": [
    "Exercício 4: <br>\n",
    "Faça um programa em Python para calcular e exibir a soma dos N primeiros números inteiros maiores que zero, onde N (quantidade de números a serem somados) é um valor informado pelo usuário."
   ]
  },
  {
   "cell_type": "code",
   "execution_count": 46,
   "id": "3580e814",
   "metadata": {},
   "outputs": [
    {
     "name": "stdout",
     "output_type": "stream",
     "text": [
      "Digite o valor de N: 4\n",
      "A soma dos 4 primeiros números inteiros é 10\n"
     ]
    }
   ],
   "source": [
    "n=int(input(\"Digite o valor de N: \"))\n",
    "soma=0\n",
    "for i in range (1,n+1):\n",
    "    soma=soma + i\n",
    "print(\"A soma dos {} primeiros números inteiros é {}\".format(n,soma))"
   ]
  },
  {
   "cell_type": "markdown",
   "id": "28590ce8",
   "metadata": {},
   "source": [
    "Exercício 5: <br>\n",
    "Faça um programa em Python para calcular a soma dos N números inteiros digitados maiores que zero, onde N (quantidade de números a serem somados) é um valor informado pelo usuário."
   ]
  },
  {
   "cell_type": "code",
   "execution_count": 44,
   "id": "ae7c8166",
   "metadata": {},
   "outputs": [
    {
     "name": "stdout",
     "output_type": "stream",
     "text": [
      "Digite o número (0 para somar todos os numeros): 2\n",
      "Digite o número (0 para somar todos os numeros): 3\n",
      "Digite o número (0 para somar todos os numeros): 5\n",
      "Digite o número (0 para somar todos os numeros): 12\n",
      "Digite o número (0 para somar todos os numeros): 0\n",
      "A soma dos termos da lista é: 22\n"
     ]
    }
   ],
   "source": [
    "# Adiciona os numeros a uma lista e informa o maior ao apertar 0\n",
    "lista = []\n",
    "while True:\n",
    "    n = int(input('Digite o número (0 para somar todos os numeros): '))\n",
    "    lista.append(n)\n",
    "    if n == 0:\n",
    "        break\n",
    "\n",
    "print (\"A soma dos termos da lista é:\",sum(lista))"
   ]
  },
  {
   "cell_type": "markdown",
   "id": "7fe0920e",
   "metadata": {},
   "source": [
    "Exercício 6: <br>\n",
    "Faça um programa que calcule o fatorial de um número inteiro fornecido pelo usuário. "
   ]
  },
  {
   "cell_type": "code",
   "execution_count": 49,
   "id": "c49e6ab0",
   "metadata": {},
   "outputs": [
    {
     "name": "stdout",
     "output_type": "stream",
     "text": [
      "Digite o numero o qual se deseja calcular o fatorial: 5\n",
      "O fatorial de 5 é 120\n"
     ]
    }
   ],
   "source": [
    "n=int(input(\"Digite o numero o qual se deseja calcular o fatorial: \"))\n",
    "if n == 0:\n",
    "    print(\"Fatorial de 0 é sempre 1\")\n",
    "if n == 1:\n",
    "    print(\"Fatorial de 1 é sempre 1\")\n",
    "if n < 0:\n",
    "    print(\"Não existe fatorial de numero negativo\")\n",
    "else:\n",
    "    fatorial = 1\n",
    "    for i in range(n,1,-1):\n",
    "        fatorial = fatorial * i\n",
    "    print(\"O fatorial de {} é {}\".format(n,fatorial))"
   ]
  }
 ],
 "metadata": {
  "kernelspec": {
   "display_name": "Python 3 (ipykernel)",
   "language": "python",
   "name": "python3"
  },
  "language_info": {
   "codemirror_mode": {
    "name": "ipython",
    "version": 3
   },
   "file_extension": ".py",
   "mimetype": "text/x-python",
   "name": "python",
   "nbconvert_exporter": "python",
   "pygments_lexer": "ipython3",
   "version": "3.9.5"
  }
 },
 "nbformat": 4,
 "nbformat_minor": 5
}
