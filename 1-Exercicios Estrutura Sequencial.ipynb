{
 "cells": [
  {
   "cell_type": "markdown",
   "id": "6d99618c",
   "metadata": {},
   "source": [
    "### Estrutura Sequencial "
   ]
  },
  {
   "cell_type": "markdown",
   "id": "32e2ee6d",
   "metadata": {},
   "source": [
    "1.Faça um Programa que mostre a mensagem \"Alo mundo\" na tela. \n"
   ]
  },
  {
   "cell_type": "code",
   "execution_count": 1,
   "id": "8c4e396c",
   "metadata": {},
   "outputs": [
    {
     "name": "stdout",
     "output_type": "stream",
     "text": [
      "Alo mundo!\n"
     ]
    }
   ],
   "source": [
    "print(\"Alo mundo!\")"
   ]
  },
  {
   "cell_type": "markdown",
   "id": "c7ff78fb",
   "metadata": {},
   "source": [
    "2.Faça um Programa que peça um número e então mostre a mensagem O número informado foi [número]. "
   ]
  },
  {
   "cell_type": "code",
   "execution_count": 2,
   "id": "9bf933d9",
   "metadata": {},
   "outputs": [
    {
     "name": "stdout",
     "output_type": "stream",
     "text": [
      "Informe o numero escolhido: 5\n",
      "O número informado foi 5.0\n"
     ]
    }
   ],
   "source": [
    "n=float(input(\"Informe o numero escolhido: \"))\n",
    "print(\"O número informado foi {:.1f}\".format(n))"
   ]
  },
  {
   "cell_type": "markdown",
   "id": "1ac9be63",
   "metadata": {},
   "source": [
    "3.faça um Programa que peça dois números e imprima a soma. "
   ]
  },
  {
   "cell_type": "code",
   "execution_count": 4,
   "id": "99a9f24f",
   "metadata": {},
   "outputs": [
    {
     "name": "stdout",
     "output_type": "stream",
     "text": [
      "Digite um numero inteiro: 5\n",
      "Digite outro numero inteiro: 9\n",
      "A soma dos numeros inseridos é 14\n"
     ]
    }
   ],
   "source": [
    "n1=int(input(\"Digite um numero inteiro: \"))\n",
    "n2=int(input(\"Digite outro numero inteiro: \"))\n",
    "\n",
    "soma=(n1+n2)\n",
    "print(\"A soma dos numeros inseridos é {}\".format(soma))"
   ]
  },
  {
   "cell_type": "markdown",
   "id": "246c23d3",
   "metadata": {},
   "source": [
    "4.Faça um Programa que peça as 4 notas bimestrais e mostre a média. \n",
    "n1=int(input(\"Digite um numero inteiro: \"))\n",
    "n2=int(input(\"Digite outro numero inteiro: \"))"
   ]
  },
  {
   "cell_type": "code",
   "execution_count": 5,
   "id": "18f62e51",
   "metadata": {},
   "outputs": [
    {
     "name": "stdout",
     "output_type": "stream",
     "text": [
      "Digite a primeira nota: 1\n",
      "Digite a segunda nota: 5\n",
      "Digite a terceira nota: 8\n",
      "Digite a quarta nota: 3\n",
      "A media das 4 notas é 4.25\n"
     ]
    }
   ],
   "source": [
    "nota1=float(input(\"Digite a primeira nota: \"))\n",
    "nota2=float(input(\"Digite a segunda nota: \"))\n",
    "nota3=float(input(\"Digite a terceira nota: \"))\n",
    "nota4=float(input(\"Digite a quarta nota: \"))\n",
    "\n",
    "media=(nota1+nota2+nota3+nota4)/4\n",
    "print(\"A media das 4 notas é {}\".format(media))"
   ]
  },
  {
   "cell_type": "markdown",
   "id": "2ff0c3c1",
   "metadata": {},
   "source": [
    "5.Faça um Programa que converta metros para centímetros. \n"
   ]
  },
  {
   "cell_type": "code",
   "execution_count": 6,
   "id": "8129eef6",
   "metadata": {},
   "outputs": [
    {
     "name": "stdout",
     "output_type": "stream",
     "text": [
      "Digite o valor da distancia em metros: 0.5\n",
      "O valor digitado em cm é igual a 50.0\n"
     ]
    }
   ],
   "source": [
    "m=float(input(\"Digite o valor da distância em metros: \"))\n",
    "\n",
    "cm=(m*100)\n",
    "\n",
    "print(\"O valor digitado em cm é igual a {}\".format(cm))"
   ]
  },
  {
   "cell_type": "code",
   "execution_count": null,
   "id": "b544e428",
   "metadata": {},
   "outputs": [],
   "source": [
    "6.Faça um Programa que peça o raio de um círculo, calcule e mostre sua área. \n"
   ]
  },
  {
   "cell_type": "code",
   "execution_count": 7,
   "id": "480abd3f",
   "metadata": {},
   "outputs": [
    {
     "name": "stdout",
     "output_type": "stream",
     "text": [
      "Informe o Raio de um circulo: 3\n",
      "O circulo apresenta area de 28.27 e circunferencia igual a 18.85\n"
     ]
    }
   ],
   "source": [
    "import math\n",
    "\n",
    "r=float(input(\"Informe o Raio de um circulo: \"))\n",
    "\n",
    "area= math.pi*r**2\n",
    "circunferencia=2*math.pi*r\n",
    "\n",
    "print(\"O circulo apresenta area de {:.2f} e circunferencia igual a {:.2f}\".format(area,circunferencia))"
   ]
  },
  {
   "cell_type": "markdown",
   "id": "45056418",
   "metadata": {},
   "source": [
    "7.Faça um Programa que calcule a área de um quadrado, em seguida mostre o dobro desta área para o usuário. "
   ]
  },
  {
   "cell_type": "code",
   "execution_count": 9,
   "id": "ef22e2e0",
   "metadata": {},
   "outputs": [
    {
     "name": "stdout",
     "output_type": "stream",
     "text": [
      "Digite a distância dos lados do quadrado: 2\n",
      "O dobro da área do quadrado de lados 2.0 é igual à 8.0\n"
     ]
    }
   ],
   "source": [
    "dist=float(input(\"Digite a distância dos lados do quadrado: \"))\n",
    "area=dist**2\n",
    "dobro_area=area*2\n",
    "\n",
    "print(\"O dobro da área do quadrado de lados {} é igual à {}\".format(dist,dobro_area))\n"
   ]
  },
  {
   "cell_type": "markdown",
   "id": "0f9dbffb",
   "metadata": {},
   "source": [
    "8.Faça um Programa que pergunte quanto você ganha por hora e o número de horas trabalhadas no mês. Calcule e mostre o total do seu salário no referido mês. "
   ]
  },
  {
   "cell_type": "code",
   "execution_count": 10,
   "id": "de5ad2ca",
   "metadata": {},
   "outputs": [
    {
     "name": "stdout",
     "output_type": "stream",
     "text": [
      "Quanto você ganha por hora?12.7\n",
      "quantas horas aproximadamente você trabalha por mes?5\n",
      "o seu ganho mensal é igual a 63.5\n"
     ]
    }
   ],
   "source": [
    "ganho=float(input(\"Quanto você ganha por hora ?  \"))\n",
    "horas=int(input(\"quantas horas aproximadamente você trabalha por mes ?  \"))\n",
    "\n",
    "salario=ganho*horas\n",
    "print(\"o seu ganho mensal é igual a {}\".format(salario))"
   ]
  },
  {
   "cell_type": "markdown",
   "id": "9e4ce13f",
   "metadata": {},
   "source": [
    "9.Faça um Programa que peça a temperatura em graus Fahrenheit, transforme e mostre a temperatura em graus Celsius.\n",
    " C = 5 * ((F-32) / 9). "
   ]
  },
  {
   "cell_type": "code",
   "execution_count": 7,
   "id": "3458b966",
   "metadata": {},
   "outputs": [
    {
     "name": "stdout",
     "output_type": "stream",
     "text": [
      "Digite a temperatura em graus Fahrenheit: 55\n",
      "O valor da temperatura fornecida em Graus Celsius é 12.78\n"
     ]
    }
   ],
   "source": [
    "f=float(input(\"Digite a temperatura em graus Fahrenheit: \"))\n",
    "c = 5 * ((f-32) / 9)\n",
    "\n",
    "print(\"O valor da temperatura fornecida em Graus Celsius é {:.2f}\".format(c))\n",
    "    "
   ]
  },
  {
   "cell_type": "markdown",
   "id": "3396fd07",
   "metadata": {},
   "source": [
    "10.Faça um Programa que peça a temperatura em graus Celsius, transforme e mostre em graus Fahrenheit. "
   ]
  },
  {
   "cell_type": "code",
   "execution_count": 8,
   "id": "33d45bff",
   "metadata": {},
   "outputs": [
    {
     "name": "stdout",
     "output_type": "stream",
     "text": [
      "Digite a temperatura em graus Fahrenheit: 12.78\n",
      "O valor da temperatura fornecida em Graus Celsius é 55.00\n"
     ]
    }
   ],
   "source": [
    "c=float(input(\"Digite a temperatura em graus Fahrenheit: \"))\n",
    "c = 5 * ((f-32) / 9)\n",
    "\n",
    "print(\"O valor da temperatura fornecida em Graus Celsius é {:.2f}\".format(f))"
   ]
  },
  {
   "cell_type": "markdown",
   "id": "ff967bbc",
   "metadata": {},
   "source": [
    "11.Faça um Programa que peça 2 números inteiros e um número real. Calcule e mostre:\n",
    "\n",
    "   + o produto do dobro do primeiro com metade do segundo .\n",
    "   + a soma do triplo do primeiro com o terceiro.\n",
    "   + o terceiro elevado ao cubo. "
   ]
  },
  {
   "cell_type": "code",
   "execution_count": 21,
   "id": "fd4b9563",
   "metadata": {},
   "outputs": [
    {
     "name": "stdout",
     "output_type": "stream",
     "text": [
      "Digite o primeiro numero inteiro: 2\n",
      "Digite o segundo numero inteiro: 3\n",
      "Digite um numero real: 2.5\n",
      "A resposta para o primeiro ponto é: 3.0\n",
      "A resposta para o segundo ponto é: 8.5\n",
      "A resposta para o terceiro ponto é: 15.625\n"
     ]
    }
   ],
   "source": [
    "i=int(input(\"Digite o primeiro numero inteiro: \"))\n",
    "ii=int(input(\"Digite o segundo numero inteiro: \"))\n",
    "r=float(input(\"Digite um numero real: \"))\n",
    "\n",
    "a=i*(ii/2)\n",
    "print(\"A resposta para o primeiro ponto é: {}\".format(a))\n",
    "b=3*i+r\n",
    "print(\"A resposta para o segundo ponto é: {}\".format(b))\n",
    "c=r**3\n",
    "print(\"A resposta para o terceiro ponto é: {}\".format(c))\n"
   ]
  },
  {
   "cell_type": "markdown",
   "id": "13d7eb46",
   "metadata": {},
   "source": [
    "12.Tendo como dados de entrada a altura de uma pessoa, construa um algoritmo que calcule seu peso ideal, usando a seguinte fórmula: (72.7*altura) - 58 "
   ]
  },
  {
   "cell_type": "code",
   "execution_count": 22,
   "id": "76cbaf10",
   "metadata": {
    "scrolled": true
   },
   "outputs": [
    {
     "name": "stdout",
     "output_type": "stream",
     "text": [
      "Digite a altura de uma pessoa: 1.78\n",
      "O peso ideal da pessoa segundo a formula fornecida é 71.406\n"
     ]
    }
   ],
   "source": [
    "h=float(input(\"Digite a altura de uma pessoa: \"))\n",
    "peso_ideal= (72.7*h)-58\n",
    "print(\"O peso ideal da pessoa segundo a formula fornecida é {}\".format(peso_ideal))"
   ]
  },
  {
   "cell_type": "markdown",
   "id": "51849228",
   "metadata": {},
   "source": [
    "13.Tendo como dado de entrada a altura (h) de uma pessoa, construa um algoritmo que calcule seu peso ideal, utilizando as seguintes fórmulas:\n",
    "\n",
    "    a.Para homens: (72.7*h) - 58\n",
    "    b.Para mulheres: (62.1*h) - 44.7 "
   ]
  },
  {
   "cell_type": "code",
   "execution_count": 6,
   "id": "bfe44d2d",
   "metadata": {},
   "outputs": [
    {
     "name": "stdout",
     "output_type": "stream",
     "text": [
      "você é do sexo masculino? (1=yes/ 2=no) 1\n",
      "Digite a sua altura em metros:1.79\n",
      "O peso ideal para uma pessoa medindo 1.79 metros é 72.13\n"
     ]
    }
   ],
   "source": [
    "q=int(input(\"você é do sexo masculino? (1=yes/ 2=no) \"))\n",
    "if q!=1 and q!=2:\n",
    "    print(\"Informação invalida, digite 1 para sim e 2 para não\");\n",
    "elif q==1:\n",
    "    hm=float(input(\"Digite a sua altura em metros:\"))\n",
    "    ph=(72.7*hm) - 58\n",
    "    print(\"O peso ideal para uma pessoa medindo {} metros é {:.2f}\".format(hm,ph))\n",
    "else:\n",
    "    hw=float(input(\"Digite a sua altura em metros: \"))\n",
    "    ph=(62.1*hw) - 44.7 \n",
    "    print(\"O peso ideal para uma pessoa medindo {} metros é {:.2f}\".format(hw,ph))"
   ]
  },
  {
   "cell_type": "markdown",
   "id": "3430d9c7",
   "metadata": {},
   "source": [
    "14.João Papo-de-Pescador, homem de bem, comprou um microcomputador para controlar o rendimento diário de seu trabalho. Toda vez que ele traz um peso de peixes maior que o estabelecido pelo regulamento de pesca do estado de São Paulo (50 quilos) deve pagar uma multa de R$ 4,00 por quilo excedente. João precisa que você faça um programa que leia a variável peso (peso de peixes) e calcule o excesso. Gravar na variável excesso a quantidade de quilos além do limite e na variável multa o valor da multa que João deverá pagar. Imprima os dados do programa com as mensagens adequadas. "
   ]
  },
  {
   "cell_type": "code",
   "execution_count": 10,
   "id": "4d05488a",
   "metadata": {},
   "outputs": [
    {
     "name": "stdout",
     "output_type": "stream",
     "text": [
      "Digite o preso do peixe em quilos:68\n",
      "O valor da multa paga é de 72.0 reais , pois o peixe é 18.0 Kg acima do permitido\n"
     ]
    }
   ],
   "source": [
    "lim=50\n",
    "peso=float(input(\"Digite o preso do peixe em quilos:\"))\n",
    "if peso<=50:\n",
    "    print(\"Não haverá pagamento de multa pois o peixe pesa menos que 50Kg\")\n",
    "else:\n",
    "    excesso=peso-50\n",
    "    multa=4*(excesso)\n",
    "    print(\"O valor da multa paga é de {} reais , pois o peixe é {} Kg acima do permitido\".format(multa,excesso))"
   ]
  },
  {
   "cell_type": "markdown",
   "id": "885f8753",
   "metadata": {},
   "source": [
    "15.Faça um Programa que pergunte quanto você ganha por hora e o número de horas trabalhadas no mês. Calcule e mostre o total do seu salário no referido mês, sabendo-se que são descontados 11% para o Imposto de Renda, 8% para o INSS e 5% para o sindicato, faça um programa que nos dê:\n",
    "\n",
    "    salário bruto.\n",
    "    quanto pagou ao INSS.\n",
    "    quanto pagou ao sindicato.\n",
    "    o salário líquido.\n",
    "    calcule os descontos e o salário líquido, conforme a tabela abaixo:\n",
    "\n",
    "    + Salário Bruto : R$\n",
    "    + IR (11%) : R$\n",
    "    - INSS (8%) : R$\n",
    "    - Sindicato ( 5%) : R$\n",
    "    = Salário Liquido : R$\n",
    "    \n",
    "    Obs.: Salário Bruto - Descontos = Salário Líquido. "
   ]
  },
  {
   "cell_type": "code",
   "execution_count": 14,
   "id": "b22dc160",
   "metadata": {},
   "outputs": [
    {
     "name": "stdout",
     "output_type": "stream",
     "text": [
      "Digite o valor ganho por hora:12.7\n",
      "Digite o numero inteiro de horas trabalhadas:40\n",
      "O seu salario bruto é de 508.0, todavia, levando em conta os descontos de 40.64 reais do INSS,25.400000000000002 reais do Sindicato e 55.88 reais do IR, o salario liquido foi de 386.08 reais\n"
     ]
    }
   ],
   "source": [
    "salarioHora=float(input(\"Digite o valor ganho por hora:\"))\n",
    "horaTrab=int(input(\"Digite o numero inteiro de horas trabalhadas:\"))\n",
    "salarioBruto=salarioHora*horaTrab\n",
    "\n",
    "ir=salarioBruto*(11/100)\n",
    "inss=salarioBruto*(8/100)\n",
    "sindicato=salarioBruto*(5/100)\n",
    "descontos=(ir+inss+sindicato)\n",
    "\n",
    "salarioliq=salarioBruto-(descontos)\n",
    "print(\"O seu salario bruto é de {:.2f}, todavia, levando em conta os descontos de {:.2f} reais do INSS,{:.2f} reais do Sindicato e {:.2f} reais do IR, o salario liquido foi de {:.2f} reais\".format(salarioBruto,inss,sindicato,ir,salarioliq))"
   ]
  },
  {
   "cell_type": "markdown",
   "id": "16fda2a1",
   "metadata": {},
   "source": [
    "16.Faça um programa para uma loja de tintas. O programa deverá pedir o tamanho em metros quadrados da área a ser pintada. Considere que a cobertura da tinta é de 1 litro para cada 3 metros quadrados e que a tinta é vendida em latas de 18 litros, que custam R$ 80,00. Informe ao usuário a quantidades de latas de tinta a serem compradas e o preço total. "
   ]
  },
  {
   "cell_type": "code",
   "execution_count": 11,
   "id": "51c0b1d5",
   "metadata": {},
   "outputs": [
    {
     "name": "stdout",
     "output_type": "stream",
     "text": [
      "Digite a área em metros quadrados a ser pintada: 81\n",
      "O numero de latas utilizadas para necessarias é de 2 latas e o custo total vai ser de 160 Reais\n"
     ]
    }
   ],
   "source": [
    "import math\n",
    "\n",
    "area=float(input(\"Digite a área em metros quadrados a ser pintada: \"))\n",
    "\n",
    "VLATA=18\n",
    "MLATA=54\n",
    "CLATA=80\n",
    "\n",
    "qLatas=math.ceil(area/MLATA)\n",
    "custoLatas= qLatas*CLATA\n",
    "print(\"O numero de latas utilizadas para necessarias é de {} latas e o custo total vai ser de {} Reais\".format(qLatas,custoLatas))\n",
    "\n"
   ]
  }
 ],
 "metadata": {
  "kernelspec": {
   "display_name": "Python 3 (ipykernel)",
   "language": "python",
   "name": "python3"
  },
  "language_info": {
   "codemirror_mode": {
    "name": "ipython",
    "version": 3
   },
   "file_extension": ".py",
   "mimetype": "text/x-python",
   "name": "python",
   "nbconvert_exporter": "python",
   "pygments_lexer": "ipython3",
   "version": "3.9.5"
  }
 },
 "nbformat": 4,
 "nbformat_minor": 5
}
